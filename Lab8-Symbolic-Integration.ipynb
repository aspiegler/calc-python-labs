{
  "nbformat": 4,
  "nbformat_minor": 0,
  "metadata": {
    "colab": {
      "provenance": []
    },
    "kernelspec": {
      "name": "python3",
      "display_name": "Python 3"
    },
    "language_info": {
      "name": "python"
    }
  },
  "cells": [
    {
      "cell_type": "markdown",
      "source": [
        "<a name=\"title\"></a>\n",
        "\n",
        "# Lab 8: Symbolic Integration and the Fundamental Theorem of Calculus\n",
        "\n",
        "---\n",
        "\n",
        "The [SymPy library](https://www.sympy.org/en/index.html) is the most popular Python library for symbolic mathematics. In [previous Python labs](https://colab.research.google.com/drive/1ZfB95oBzpcOLRTQ_aEhCjIoBuOMDykh3?usp=sharing), we have seen how to perform symbolic differentiation using `sympy.diff()`, solve algebraic equations with `sym.solve()`, evaluate symbolic functions with `sympy.evalf()`, and simplify algebraic expressions with `sympy.simplify()`. In this lab, we use built-in SymPy functions to perform symbolic integration to evaluate both indefinite and definite integrals.\n"
      ],
      "metadata": {
        "id": "BScDcN5evEo_"
      }
    },
    {
      "cell_type": "markdown",
      "source": [
        "\n",
        "# Learning Objectives\n",
        "\n",
        "---\n",
        "\n",
        "\n"
      ],
      "metadata": {
        "id": "utkKdRbd4yXv"
      }
    },
    {
      "cell_type": "markdown",
      "source": [
        "## Saving Your Work to a Colab Notebook\n",
        "\n",
        "---\n",
        "\n",
        "This lab is a shared Colab notebook available for anyone to view. However, since everyone is sharing this notebook, you do not have permission to save changes to this shared Colab notebook. In order to save your work:\n",
        "\n",
        "1. You will need to set up a free Google Drive account. If you already have a Google Drive account, you are ready to go!\n",
        "2. Click the `Copy to Drive` button to the right of the `+ Code` and `+ Text` buttons on top of the notebook.\n",
        "3. Select from the menu `File/Save a Copy in Drive`.\n",
        "  - By default, the notebook will be saved in a folder named **Colab Notebooks** in your Drive.\n",
        "  - Feel free to rename and store the notebook wherever you like.\n"
      ],
      "metadata": {
        "id": "XQYAZYMYHani"
      }
    },
    {
      "cell_type": "markdown",
      "source": [
        "# Importing Required Libraries\n",
        "\n",
        "---\n",
        "\n"
      ],
      "metadata": {
        "id": "-Dkn8NnY7bAd"
      }
    },
    {
      "cell_type": "code",
      "source": [
        "###################################\n",
        "# Run to import required libraries\n",
        "###################################\n",
        "import sympy as sym  # import sympy\n",
        "import numpy as np  # import numpy\n",
        "import matplotlib.pyplot as plt  # import matplotlib.pyplot"
      ],
      "metadata": {
        "id": "hfm27EwBEx2-"
      },
      "execution_count": null,
      "outputs": []
    },
    {
      "cell_type": "markdown",
      "source": [
        "## How Often Do We Need to Import Libraries?\n",
        "\n",
        "---\n",
        "\n",
        "After importing a library for the first time, we can now access functions in the library in any code cell we run, regardless of where the code cell is located in the notebook. Thus, we only need to run `import` commands such as `import numpy as np` or `import pandas as pd` once, and then we can continue calling in functions from those libraries (using specified abbreviations) for as long as the session remains active. If you take a break while working in Colab, your session may *time out* and disconnect.\n",
        "\n",
        "- We need to import libraries one time after opening a notebook or reconnecting after timing out.\n",
        "- We do not need to import the library again unless we take a break and the connection times out.\n"
      ],
      "metadata": {
        "id": "9auO48bbr92U"
      }
    },
    {
      "cell_type": "markdown",
      "source": [
        "# Integration with SymPy\n",
        "\n",
        "---\n",
        "\n",
        "We can perform symbolic integration using the  SymPy function `.integrate()`. The `.integrate()` function can be used to evaluate both indefinite and definite integrals. Although the notation is similar, conceptually definite and indefinite integrals tell us different information.\n",
        "\n",
        "- A definite integral $\\displaystyle \\int_a^b f(x) \\, dx$ is a number that is the signed area between the graph of $f$ and the $x$-axis.\n",
        "\n",
        "- An indefinite integral $\\displaystyle \\int f(x) \\, dx$ is a family of functions that describe all possible antiderivatives of $f(x)$.\n",
        "\n",
        "The syntax for evaluating definite and indefinite integrals is very similar, but as noted above, the corresponding output is either a number (for a definite integral) or a function (for an indefinite integral).\n",
        "\n",
        "\n",
        "\n",
        "\n",
        "\n",
        "\n"
      ],
      "metadata": {
        "id": "31ganW65t0aH"
      }
    },
    {
      "cell_type": "markdown",
      "source": [
        "# Evaluating Definite Integrals with `.integrate()`.\n",
        "\n",
        "---\n",
        "\n",
        "Suppose we would like to evaluate a definite integral\n",
        "\n",
        "$$\\int_a^b f(x) \\, dx.$$\n",
        "\n",
        "We can write code that peforms the following steps:\n",
        "\n",
        "1. Store the variable $x$ as a SymPy symbol with `x = sym.symbols('x')`.\n",
        "2. Define the function $f$ with `f = [enter symbolic formula]`.\n",
        "3. Evaluate the definite integral with either the commands `sym.integrate(f, (x, a, b))` or `f.integrate((x, a, b))`.\n",
        "\n",
        "For example, to evaluate the definite integral\n",
        "\n",
        "$$\\int_0^3 \\left( 9x^2 - 16 \\right) \\, dx,$$\n",
        "\n",
        "we can first store `x` as a symbol and define the symbolic function $f$ in the first code cell below.\n",
        "\n",
        "\n",
        "<br>  \n",
        "\n",
        "*Note: When we imported packages in the first code cell, we used the abbreviation `sym` for `sympy`. Be sure you have already imported the required packages for this notebook.*"
      ],
      "metadata": {
        "id": "R6J1qXj8xAKn"
      }
    },
    {
      "cell_type": "code",
      "source": [
        "##################################\n",
        "# Run code cell to define x and f\n",
        "##################################\n",
        "x = sym.symbols('x')  # define x as a symbolic variable\n",
        "f = 9 * x**2 - 16  # define symbolic function f(x) = 9x^2 - 16\n",
        "f  # print f to screen"
      ],
      "metadata": {
        "colab": {
          "base_uri": "https://localhost:8080/",
          "height": 39
        },
        "id": "YTEoKuSq2HE1",
        "outputId": "7b0322f1-289b-4f39-8865-161dc9e26a1e"
      },
      "execution_count": null,
      "outputs": [
        {
          "output_type": "execute_result",
          "data": {
            "text/plain": [
              "9*x**2 - 16"
            ],
            "text/latex": "$\\displaystyle 9 x^{2} - 16$"
          },
          "metadata": {},
          "execution_count": 2
        }
      ]
    },
    {
      "cell_type": "markdown",
      "source": [
        "Next, we can use the syntax `sym.integrate(f, (x, a, b))`. Run the code cell and confirm the value of the definite integral is $33$.\n",
        "\n"
      ],
      "metadata": {
        "id": "5b73vjUG2Zxz"
      }
    },
    {
      "cell_type": "code",
      "source": [
        "##############################################\n",
        "# Run code cell to evaluate definite integral\n",
        "##############################################\n",
        "sym.integrate(f, (x, 0, 3))  # evaluate definite integral"
      ],
      "metadata": {
        "colab": {
          "base_uri": "https://localhost:8080/",
          "height": 180
        },
        "outputId": "28b256b7-d793-4f65-cb24-5428757b060b",
        "id": "AxwP-f8B23ZK"
      },
      "execution_count": 1,
      "outputs": [
        {
          "output_type": "error",
          "ename": "NameError",
          "evalue": "name 'sym' is not defined",
          "traceback": [
            "\u001b[0;31m---------------------------------------------------------------------------\u001b[0m",
            "\u001b[0;31mNameError\u001b[0m                                 Traceback (most recent call last)",
            "\u001b[0;32m<ipython-input-1-8c23011506a3>\u001b[0m in \u001b[0;36m<cell line: 4>\u001b[0;34m()\u001b[0m\n\u001b[1;32m      2\u001b[0m \u001b[0;31m# Run code cell to evaluate definite integral\u001b[0m\u001b[0;34m\u001b[0m\u001b[0;34m\u001b[0m\u001b[0m\n\u001b[1;32m      3\u001b[0m \u001b[0;31m##############################################\u001b[0m\u001b[0;34m\u001b[0m\u001b[0;34m\u001b[0m\u001b[0m\n\u001b[0;32m----> 4\u001b[0;31m \u001b[0msym\u001b[0m\u001b[0;34m.\u001b[0m\u001b[0mintegrate\u001b[0m\u001b[0;34m(\u001b[0m\u001b[0mf\u001b[0m\u001b[0;34m,\u001b[0m \u001b[0;34m(\u001b[0m\u001b[0mx\u001b[0m\u001b[0;34m,\u001b[0m \u001b[0;36m0\u001b[0m\u001b[0;34m,\u001b[0m \u001b[0;36m3\u001b[0m\u001b[0;34m)\u001b[0m\u001b[0;34m)\u001b[0m  \u001b[0;31m# evaluate definite integral\u001b[0m\u001b[0;34m\u001b[0m\u001b[0;34m\u001b[0m\u001b[0m\n\u001b[0m",
            "\u001b[0;31mNameError\u001b[0m: name 'sym' is not defined"
          ]
        }
      ]
    },
    {
      "cell_type": "markdown",
      "source": [
        "Equivalently, we can use the syntax `f.integrate((x, a, b))`. Run the code cell and confirm again the value of the definite integral is $33$.\n",
        "\n",
        "<br>  \n",
        "\n",
        "*Note: We use two sets of parentheses. One set calls in the `.integrate()` function. Then, we enter the integration variable and limits inside a second set of parentheses `(x, a, b)`.*"
      ],
      "metadata": {
        "id": "r6ptl9q83JWc"
      }
    },
    {
      "cell_type": "code",
      "source": [
        "##############################################\n",
        "# Run code cell to evaluate definite integral\n",
        "##############################################\n",
        "f.integrate((x, 0, 3))  # evaluate definite integral"
      ],
      "metadata": {
        "colab": {
          "base_uri": "https://localhost:8080/",
          "height": 37
        },
        "id": "21sum2Xa3H3D",
        "outputId": "438edf63-6ee4-4697-9ffa-264783783db4"
      },
      "execution_count": null,
      "outputs": [
        {
          "output_type": "execute_result",
          "data": {
            "text/plain": [
              "33"
            ],
            "text/latex": "$\\displaystyle 33$"
          },
          "metadata": {},
          "execution_count": 4
        }
      ]
    },
    {
      "cell_type": "markdown",
      "source": [
        "## Interpreting the Output of a Definite Integral\n",
        "\n",
        "---\n",
        "\n",
        "In general, the definite integral $\\displaystyle \\int_a^b f(x) \\, dx$ is the sum of the areas above the $x$-axis, counted *positively*, and the areas below the $x$-axis, *counted negatively*."
      ],
      "metadata": {
        "id": "-x6bbyNh46rY"
      }
    },
    {
      "cell_type": "markdown",
      "source": [
        "# Question 1\n",
        "\n",
        "---\n",
        "\n",
        "Run the code cell below to generate a plot to illustrate the value of the definite integral $\\displaystyle \\int_0^3 \\left( 9x^2 - 16 \\right) \\, dx$. Then answer the questions that follow.\n",
        "\n"
      ],
      "metadata": {
        "id": "AHdRf1446tmn"
      }
    },
    {
      "cell_type": "code",
      "source": [
        "##########################################\n",
        "# Plot flow rates at beginning of 2023.\n",
        "##########################################\n",
        "x_in = np.linspace(0, 3.5, 1000)  # pick 1000 evenly spaced x-values from x=0 to x=3\n",
        "plt.plot(x_in,  # plot a point at each x-value in array x\n",
        "         9 * x_in**2 - 16,  # corresponding output 3x^2 - 4\n",
        "         color ='black')  # plot curve in blue\n",
        "\n",
        "###################\n",
        "# Add axes to plot\n",
        "###################\n",
        "plt.axhline(y=0, color='black') # add a vertical axis at y=0\n",
        "\n",
        "####################\n",
        "# shade exact area\n",
        "####################\n",
        "x_fill1 = np.linspace(0, 4/3, 1000)\n",
        "plt.fill_between(x_fill1, 9 * x_fill1**2 - 16, color='red', alpha=0.5)\n",
        "\n",
        "x_fill2 = np.linspace(4/3, 3, 1000)\n",
        "plt.fill_between(x_fill2, 9 * x_fill2**2 - 16, color='dodgerblue', alpha=0.5)\n",
        "\n",
        "###############\n",
        "# Plot options\n",
        "###############\n",
        "plt.xlabel('x')  # label on x-axis\n",
        "plt.ylabel('f(x)')  # label for the y-axis\n",
        "plt.xticks(np.arange(0, 4, step=0.5))  # Set tick marks\n",
        "plt.xlim(0, 3.5)  # set limits on x-axis\n",
        "#plt.ylim(-200, 600)  # set limits on y-axis\n",
        "#plt.grid(True)  # add grid\n",
        "plt.show()  # display plot"
      ],
      "metadata": {
        "colab": {
          "base_uri": "https://localhost:8080/",
          "height": 449
        },
        "id": "5Scq7C6B7fB3",
        "outputId": "994d3cd2-3200-4c44-f3c5-02d4ccc84b03"
      },
      "execution_count": null,
      "outputs": [
        {
          "output_type": "display_data",
          "data": {
            "text/plain": [
              "<Figure size 640x480 with 1 Axes>"
            ],
            "image/png": "[encoded data removed]"
          },
          "metadata": {}
        }
      ]
    },
    {
      "cell_type": "markdown",
      "source": [
        "## Question 1a\n",
        "\n",
        "---\n",
        "\n",
        "Use the SymPy function `.solve()` to find the exact value of $x$ where the graph of $f(x)=9x^2-16$ intersects the $x$-axis. Then type your answer in the text cell below the code cell.\n",
        "\n",
        "<br>  \n",
        "\n",
        "*Note: Code to define `x` as a symbolic variable and `f` as a symbolic function is included in case you have not run the previous code cell where `x` and `f` are defined.*"
      ],
      "metadata": {
        "id": "AMsrTGexmL07"
      }
    },
    {
      "cell_type": "code",
      "source": [
        "######################################\n",
        "# Solution to Question 1a\n",
        "######################################\n",
        "x = sym.symbols('x')  # define x as a symbolic variable\n",
        "f = 9 * x**2 - 16  # define symbolic function f(x) = 9x^2 - 16\n",
        "\n",
        "sym.solve()  # replace ?? to complete the command"
      ],
      "metadata": {
        "id": "9iFPUl33mJOG"
      },
      "execution_count": null,
      "outputs": []
    },
    {
      "cell_type": "code",
      "source": [
        "######################################\n",
        "# Solution to Question 1a\n",
        "# Replace ?? to complete the command.\n",
        "######################################\n",
        "x = sym.symbols('x')  # define x as a symbolic variable\n",
        "f = 9 * x**2 - 16  # define symbolic function f(x) = 9x^2 - 16\n",
        "\n",
        "sym.solve(f, x)  # replace ?? to complete the command"
      ],
      "metadata": {
        "colab": {
          "base_uri": "https://localhost:8080/"
        },
        "id": "c04_URYooTvc",
        "outputId": "08fa91ff-8f35-4d9d-a6e4-c2d5d2993a02"
      },
      "execution_count": null,
      "outputs": [
        {
          "output_type": "execute_result",
          "data": {
            "text/plain": [
              "[-4/3, 4/3]"
            ]
          },
          "metadata": {},
          "execution_count": 6
        }
      ]
    },
    {
      "cell_type": "markdown",
      "source": [
        "### Solution to Question 1a\n",
        "\n",
        "---\n",
        "\n",
        "The $x$-intercept is located at ( <mark>??</mark> , 0).\n",
        "\n",
        "<br>  \n",
        "\n",
        "*Note: Enter the exact value of $x$ and not a decimal approximation.*\n",
        "\n",
        "\n",
        "<br>  \n",
        "<br>  \n"
      ],
      "metadata": {
        "id": "22Xn98f9pNGD"
      }
    },
    {
      "cell_type": "markdown",
      "source": [
        "## Question 1b\n",
        "\n",
        "---\n",
        "\n",
        "Use the SymPy function `.integrate()` to calculate the area of the shaded region **above** the $x$-axis.\n",
        "\n"
      ],
      "metadata": {
        "id": "t2aZx0bNrrse"
      }
    },
    {
      "cell_type": "code",
      "source": [
        "###################################################\n",
        "# Solution to Question 1b\n",
        "# Replace ?? with a command using the .integrate()\n",
        "# function to compute the area.\n",
        "###################################################\n",
        "area_above = ??  # area of shaded region above x-axis\n",
        "\n",
        "area_above  # print area above x-axis to screen"
      ],
      "metadata": {
        "id": "4FmovdEErrso"
      },
      "execution_count": null,
      "outputs": []
    },
    {
      "cell_type": "code",
      "source": [
        "###################################################\n",
        "# Solution to Question 1b\n",
        "# Replace ?? with a command using the .integrate()\n",
        "# function to compute the area.\n",
        "###################################################\n",
        "area_above = f.integrate((x, 4/3, 3))  # area of shaded region above x-axis\n",
        "\n",
        "area_above  # print area above x-axis to screen"
      ],
      "metadata": {
        "colab": {
          "base_uri": "https://localhost:8080/",
          "height": 37
        },
        "id": "2JShh3Yar7g2",
        "outputId": "7f702010-85b4-4d03-d638-1aed053f325c"
      },
      "execution_count": null,
      "outputs": [
        {
          "output_type": "execute_result",
          "data": {
            "text/plain": [
              "47.2222222222222"
            ],
            "text/latex": "$\\displaystyle 47.2222222222222$"
          },
          "metadata": {},
          "execution_count": 7
        }
      ]
    },
    {
      "cell_type": "markdown",
      "source": [
        "## Question 1c\n",
        "\n",
        "---\n",
        "\n",
        "Use the SymPy function `.integrate()` to calculate the area of the shaded region **below** the $x$-axis.\n",
        "\n",
        "<br>  \n",
        "\n",
        "*Hint: Areas are positive values. You may need to adjust your code (multiply by $-1$ for example) so the value stored in `area_below` is positive.*"
      ],
      "metadata": {
        "id": "lwOJSTidp0Ig"
      }
    },
    {
      "cell_type": "code",
      "source": [
        "###################################################\n",
        "# Solution to Question 1c\n",
        "# Replace ?? with a command using the .integrate()\n",
        "# function to compute the area.\n",
        "###################################################\n",
        "area_below = ??  # area of shaded region below x-axis\n",
        "\n",
        "area_below  # print area below x-axis to screen"
      ],
      "metadata": {
        "id": "FKMYCfjPp0Ig"
      },
      "execution_count": null,
      "outputs": []
    },
    {
      "cell_type": "code",
      "source": [
        "###################################################\n",
        "# Solution to Question 1c\n",
        "# Replace ?? with a command using the .integrate()\n",
        "# function to compute the area.\n",
        "###################################################\n",
        "area_below = -1 * f.integrate((x, 0, 4/3))  # area of shaded region below x-axis\n",
        "\n",
        "area_below  # print area below x-axis to screen"
      ],
      "metadata": {
        "colab": {
          "base_uri": "https://localhost:8080/",
          "height": 37
        },
        "id": "YObb4QyRrhLO",
        "outputId": "332e32da-e03b-48cc-d290-47b67c23b785"
      },
      "execution_count": null,
      "outputs": [
        {
          "output_type": "execute_result",
          "data": {
            "text/plain": [
              "14.2222222222222"
            ],
            "text/latex": "$\\displaystyle 14.2222222222222$"
          },
          "metadata": {},
          "execution_count": 8
        }
      ]
    },
    {
      "cell_type": "markdown",
      "source": [
        "## Question 1d\n",
        "\n",
        "---\n",
        "\n",
        "\n",
        "Complete the code cell below to use the areas stored in `area_above` and `area_below` to verify\n",
        "\n",
        "$$\\int_0^3 \\left( 9x^2 - 16 \\right) \\, dx = 33.$$\n",
        "\n",
        "\n",
        "<br>  \n",
        "\n",
        "*Hint: The definite integral $\\displaystyle \\int_a^b f(x) \\, dx$ is the sum of the areas above the $x$-axis, counted positively, and the areas below the $x$-axis, counted negatively.*"
      ],
      "metadata": {
        "id": "g1bYAq-6s192"
      }
    },
    {
      "cell_type": "code",
      "source": [
        "######################################################\n",
        "# Solution to Question 1d\n",
        "# Replace ?? with an operation such as +, -, *, or /.\n",
        "######################################################\n",
        "integral_value = area_above ?? area_below  # compute value of definite integral\n",
        "\n",
        "integral_value  # print value of definite integral"
      ],
      "metadata": {
        "id": "XLbXPVKCs193"
      },
      "execution_count": null,
      "outputs": []
    },
    {
      "cell_type": "code",
      "source": [
        "######################################################\n",
        "# Solution to Question 1d\n",
        "# Replace ?? with an operation such as +, -, *, or /.\n",
        "######################################################\n",
        "integral_value = area_above - area_below  # compute value of definite integral\n",
        "\n",
        "integral_value  # print value of definite integral"
      ],
      "metadata": {
        "colab": {
          "base_uri": "https://localhost:8080/",
          "height": 37
        },
        "id": "yeIbOhYLtmfN",
        "outputId": "50102d97-016c-4819-c179-184cc8191388"
      },
      "execution_count": null,
      "outputs": [
        {
          "output_type": "execute_result",
          "data": {
            "text/plain": [
              "33.0000000000000"
            ],
            "text/latex": "$\\displaystyle 33.0$"
          },
          "metadata": {},
          "execution_count": 9
        }
      ]
    },
    {
      "cell_type": "markdown",
      "source": [
        "<a name=\"q2\"></a>\n",
        "# Question 2\n",
        "\n",
        "---\n",
        "\n",
        "You leave your home to go for a bike ride on a straight bike path to meet a friend at a lake, and then you both ride along another straight bike path to your friend's home. Your velocity $v(t)$, in km/hour, $t$ hours after leaving your home, is modeled by the formula\n",
        "\n",
        "$$v(t) = 1000 t^3 - 1133 t^2 + 267 t.$$\n",
        "\n",
        "where positive velocities take you toward the lake and negative velocities take you away from the lake. Run the code cell below to generate a plot of your velocity over the course of your bike ride and answer the questions that follow.\n"
      ],
      "metadata": {
        "id": "K1hX-kf72OT9"
      }
    },
    {
      "cell_type": "code",
      "source": [
        "##########################################\n",
        "# Plot of velocity during bike ride\n",
        "##########################################\n",
        "t_in = np.linspace(0, 0.799, 1000)  # values of t where v(t) plotted\n",
        "r_out = 1000 * t_in**3 - 1133 * t_in**2 + 267 * t_in  # velocities\n",
        "plt.plot(t_in,  # plot a point at each t-value in array t_in\n",
        "         r_out,  # corresponding velocity v(t)\n",
        "         color ='blue')  # plot curve in blue\n",
        "\n",
        "###################\n",
        "# Add axes to plot\n",
        "###################\n",
        "plt.axhline(y=0, color='black') # add a vertical axis at y=0\n",
        "\n",
        "###############\n",
        "# Plot options\n",
        "###############\n",
        "plt.title('Velocity During Bike Ride')\n",
        "plt.xlabel('t, hours')  # label on x-axis\n",
        "plt.ylabel('v(t), km/hr')  # label for the y-axis\n",
        "plt.xticks(np.arange(0, .9, step=0.1))  # Set tick marks\n",
        "plt.xlim(0, 0.85)  # set limits on x-axis\n",
        "plt.grid(True)  # add grid\n",
        "plt.show()  # display plot"
      ],
      "metadata": {
        "colab": {
          "base_uri": "https://localhost:8080/",
          "height": 472
        },
        "outputId": "c67f7ef2-c0b4-4626-905c-aa9f24621c1e",
        "id": "D73RRUZ_2OUI"
      },
      "execution_count": null,
      "outputs": [
        {
          "output_type": "display_data",
          "data": {
            "text/plain": [
              "<Figure size 640x480 with 1 Axes>"
            ],
            "image/png": "[encoded data removed]"
          },
          "metadata": {}
        }
      ]
    },
    {
      "cell_type": "markdown",
      "source": [
        "<a name=\"q2a\"></a>\n",
        "## Question 2a\n",
        "\n",
        "---\n",
        "\n",
        "Complete the code cell below to find the values of $t$ when your velocity is 0 km/hr."
      ],
      "metadata": {
        "id": "_0oOyMdR2OUJ"
      }
    },
    {
      "cell_type": "code",
      "source": [
        "#######################################################\n",
        "# Solution to Question 2a\n",
        "# Replace ?? with command using to find when v(t) = 0.\n",
        "#######################################################\n",
        "t = sym.symbols('t')  # define t as a symbolic variable\n",
        "v = 1000. * t**3 - 1133.  * t**2 + 267. * t  # define symbolic function v(t)\n",
        "\n",
        "??  # find when v(t) = 0"
      ],
      "metadata": {
        "id": "U9lwcTK82OUJ"
      },
      "execution_count": null,
      "outputs": []
    },
    {
      "cell_type": "code",
      "source": [
        "#######################################################\n",
        "# Solution to Question 2a\n",
        "# Replace ?? with command using to find when v(t) = 0.\n",
        "#######################################################\n",
        "t = sym.symbols('t')  # define t as a symbolic variable\n",
        "v = 1000. * t**3 - 1133.  * t**2 + 267. * t  # define symbolic function v(t)\n",
        "\n",
        "sym.solve(v, t)  # find when v(t) = 0"
      ],
      "metadata": {
        "colab": {
          "base_uri": "https://localhost:8080/"
        },
        "outputId": "fc13799b-999b-40cb-ee92-05ae2054b21b",
        "id": "ehlo-FjG2OUJ"
      },
      "execution_count": null,
      "outputs": [
        {
          "output_type": "execute_result",
          "data": {
            "text/plain": [
              "[0.0, 0.334288350852073, 0.798711649147927]"
            ]
          },
          "metadata": {},
          "execution_count": 11
        }
      ]
    },
    {
      "cell_type": "markdown",
      "source": [
        "<a name=\"q2b\"></a>\n",
        "## Question 2b\n",
        "\n",
        "---\n",
        "\n",
        "Use the output from the code in [Question 2a](#q2a) to complete the code cell below to give the time in minutes that it takes you to reach the lake and to reach your friend's home."
      ],
      "metadata": {
        "id": "yw8Vyu9-2OUK"
      }
    },
    {
      "cell_type": "code",
      "source": [
        "##########################\n",
        "# Solution to Question 2b\n",
        "##########################\n",
        "lake_min = ??  # compute the number of minutes it takes to reach the lake\n",
        "friend_min = ??  # compute the number of minutes it takes to reach your friend's home\n",
        "\n",
        "print(\"It takes \", lake_min, \" minutes for you to reach the lake.\")\n",
        "print(\"It takes \", friend_min, \" minutes for you reach your friend's home.\")"
      ],
      "metadata": {
        "id": "yj4UQbfC2OUK"
      },
      "execution_count": null,
      "outputs": []
    },
    {
      "cell_type": "code",
      "source": [
        "##########################\n",
        "# Solution to Question 2b\n",
        "##########################\n",
        "lake_min = 0.334288350852073 * 60  # compute the number of minutes it takes to reach the lake\n",
        "friend_min = 0.798711649147927 * 60  # compute the number of minutes it takes to reach your friend's home\n",
        "\n",
        "print(\"It takes \", round(lake_min, 0), \" minutes for you to reach the lake.\")\n",
        "print(\"It takes \", round(friend_min, 0), \" minutes for you reach your friend's home.\")"
      ],
      "metadata": {
        "colab": {
          "base_uri": "https://localhost:8080/"
        },
        "outputId": "19e8d59c-1f06-43b2-ffe5-ebe2bbfc297c",
        "id": "2BFUzqJl2OUK"
      },
      "execution_count": null,
      "outputs": [
        {
          "output_type": "stream",
          "name": "stdout",
          "text": [
            "It takes  20.0  minutes for you to reach the lake.\n",
            "It takes  48.0  minutes for you reach your friend's home.\n"
          ]
        }
      ]
    },
    {
      "cell_type": "markdown",
      "source": [
        "<a name=\"q2c\"></a>\n",
        "## Question 2c\n",
        "\n",
        "---\n",
        "\n",
        "Set up a definite integral that gives the distance of your home from the lake. Then use the `.integrate` function to compute the value of the definite integral in the code cell below. After running the code, type your answer in the text cell below the code cell.\n"
      ],
      "metadata": {
        "id": "ND_vq9Ns2OUK"
      }
    },
    {
      "cell_type": "code",
      "source": [
        "#################################################################\n",
        "# Solution to Question 2c\n",
        "# Replace the ?? with a command using the .integrate() function.\n",
        "#################################################################\n",
        "your_dist_to_lake = ??  # your distance to the lake\n",
        "\n",
        "your_dist_to_lake  # print distance to screen"
      ],
      "metadata": {
        "id": "6aio9RGx2OUK"
      },
      "execution_count": null,
      "outputs": []
    },
    {
      "cell_type": "code",
      "source": [
        "#################################################################\n",
        "# Solution to Question 2c\n",
        "# Replace the ?? with a command using the .integrate() function.\n",
        "#################################################################\n",
        "your_dist_to_lake = v.integrate((t,0,0.334288350852073))  # your distance to the lake\n",
        "\n",
        "your_dist_to_lake  # print distance to screen"
      ],
      "metadata": {
        "colab": {
          "base_uri": "https://localhost:8080/",
          "height": 37
        },
        "outputId": "8ab65613-0793-4217-92bb-65cc0a8112e7",
        "id": "0h1mZcwV2OUK"
      },
      "execution_count": null,
      "outputs": [
        {
          "output_type": "execute_result",
          "data": {
            "text/plain": [
              "3.93216952657044"
            ],
            "text/latex": "$\\displaystyle 3.93216952657044$"
          },
          "metadata": {},
          "execution_count": 97
        }
      ]
    },
    {
      "cell_type": "markdown",
      "source": [
        "### Solution to Question 2c\n",
        "\n",
        "---\n",
        "\n",
        "\n",
        "The distance of your home to the lake is <mark>[round to three decimal places]</mark> km.\n",
        "\n",
        "\n",
        "\n",
        "<br>  \n",
        "<br>  "
      ],
      "metadata": {
        "id": "UnqWwW472OUK"
      }
    },
    {
      "cell_type": "markdown",
      "source": [
        "<a name=\"q2d\"></a>\n",
        "## Question 2d\n",
        "\n",
        "---\n",
        "\n",
        "Set up a definite integral that gives the distance of your friend's home from the lake. Then use the `.integrate` function to compute the value of the definite integral in the code cell below. After running the code, type your answer in the text cell below the code cell.\n"
      ],
      "metadata": {
        "id": "jwEhQfNn2OUL"
      }
    },
    {
      "cell_type": "code",
      "source": [
        "#################################################################\n",
        "# Solution to Question 2d\n",
        "# Replace the ?? with a command using the .integrate() function.\n",
        "#################################################################\n",
        "friend_dist_to_lake = ??  # friend's distance to the lake\n",
        "\n",
        "friend_dist_to_lake  # print distance to screen"
      ],
      "metadata": {
        "id": "sm8Pl7p22OUL"
      },
      "execution_count": null,
      "outputs": []
    },
    {
      "cell_type": "code",
      "source": [
        "#################################################################\n",
        "# Solution to Question 2d\n",
        "# Replace the ?? with a command using the .integrate() function.\n",
        "#################################################################\n",
        "friend_dist_to_lake = -1 * v.integrate((t, 0.334288350852073, 0.798711649147927))  # friend's distance to the lake\n",
        "\n",
        "friend_dist_to_lake  # print distance to screen"
      ],
      "metadata": {
        "colab": {
          "base_uri": "https://localhost:8080/",
          "height": 37
        },
        "outputId": "5e39003f-879c-44b2-ecb6-e68d2e6549ce",
        "id": "DR8r1rKH2OUL"
      },
      "execution_count": null,
      "outputs": [
        {
          "output_type": "execute_result",
          "data": {
            "text/plain": [
              "9.45781161322425"
            ],
            "text/latex": "$\\displaystyle 9.45781161322425$"
          },
          "metadata": {},
          "execution_count": 12
        }
      ]
    },
    {
      "cell_type": "markdown",
      "source": [
        "### Solution to Question 2d\n",
        "\n",
        "---\n",
        "\n",
        "\n",
        "The distance of your friend's home to the lake is <mark>[round to three decimal places]</mark> km.\n",
        "\n",
        "\n",
        "\n",
        "<br>  \n",
        "<br>  \n"
      ],
      "metadata": {
        "id": "Ov6x9r3L2OUL"
      }
    },
    {
      "cell_type": "markdown",
      "source": [
        "# Evaluating Indefinite Integrals with `.integrate()`.\n",
        "\n",
        "---\n",
        "\n",
        "\n",
        "We can similarly use the `.integrate()` function to evaluate an *indefinite integral*\n",
        "\n",
        "$$\\int f(x) \\, dx.$$\n",
        "\n",
        "In this case, we no longer have limits of integration. After we define the symbolic variable `x` and function `f`, we can use either the command `f.integrate(x)` or `sym.integrate(f, x)` to evaluate an indefinite integral.\n"
      ],
      "metadata": {
        "id": "IUQNVzott7Fc"
      }
    },
    {
      "cell_type": "markdown",
      "source": [
        "## Interpreting the Output of an Indefinite Integral\n",
        "\n",
        "---\n",
        "\n",
        "The indefinite integral $\\displaystyle \\int f(x) \\, dx$ is a family of functions $F(x)$ such that $F'(x) = f(x)$."
      ],
      "metadata": {
        "id": "J7TUi-xLxKko"
      }
    },
    {
      "cell_type": "markdown",
      "source": [
        "<a name=\"q3\"></a>\n",
        "# Question 3\n",
        "\n",
        "---\n",
        "\n",
        "Use the SymPy function `.integrate()` to evaluate the integral\n",
        "\n",
        "$$\\int \\left( 9x^2 - 16 \\right) \\, dx.$$\n"
      ],
      "metadata": {
        "id": "8yJa6_3axpVH"
      }
    },
    {
      "cell_type": "code",
      "source": [
        "##################################\n",
        "# Solution to Question 3\n",
        "##################################\n",
        "x = sym.symbols('x')  # define x as a symbolic variable\n",
        "f = 9 * x**2 - 16  # define symbolic function f(x) = 9x^2 - 16\n",
        "\n",
        "??  # enter a command using .integrate() to evaluate the integral"
      ],
      "metadata": {
        "id": "SlDtM50Kt7Fk"
      },
      "execution_count": null,
      "outputs": []
    },
    {
      "cell_type": "code",
      "source": [
        "##################################\n",
        "# Solution to Question 3\n",
        "##################################\n",
        "x = sym.symbols('x')  # define x as a symbolic variable\n",
        "f = 9 * x**2 - 16  # define symbolic function f(x) = 9x^2 - 16\n",
        "\n",
        "f.integrate(x)  # enter a command using .integrate() to evaluate the integral"
      ],
      "metadata": {
        "colab": {
          "base_uri": "https://localhost:8080/",
          "height": 39
        },
        "id": "cKVeoGD-yFSu",
        "outputId": "747da694-7643-4902-9dd9-5f0b98a94d6f"
      },
      "execution_count": null,
      "outputs": [
        {
          "output_type": "execute_result",
          "data": {
            "text/plain": [
              "3*x**3 - 16*x"
            ],
            "text/latex": "$\\displaystyle 3 x^{3} - 16 x$"
          },
          "metadata": {},
          "execution_count": 13
        }
      ]
    },
    {
      "cell_type": "markdown",
      "source": [
        "<a name=\"q4\"></a>\n",
        "# Question 4\n",
        "\n",
        "---\n",
        "\n",
        "Based on the solution to [Question 3](#q3), you should see that $F(x) = 3x^3 - 16x$ is one possible antiderivative of $f(x) = 9x^2 - 16$. Complete the code cell below to use the `.diff()` function to verify $F(x) = 3x^3 - 16x$ is an antiderivative of $f(x) = 9x^2 - 16$.\n",
        "\n",
        "<br>  \n",
        "\n",
        "*Hint: We say $F(x)$ is an antiderivative of $f(x)$ if $F'(x) = f(x)$.*\n"
      ],
      "metadata": {
        "id": "stitEmkptzJZ"
      }
    },
    {
      "cell_type": "code",
      "source": [
        "#########################\n",
        "# Solution to Question 4\n",
        "#########################\n",
        "F = ??  # define F(x) = 3x^3 - 16x as a symbolic function of x\n",
        "??  # enter a command using .diff() to show F is an antiderivative of f"
      ],
      "metadata": {
        "id": "sLVN9f1w02_o"
      },
      "execution_count": null,
      "outputs": []
    },
    {
      "cell_type": "code",
      "source": [
        "#########################\n",
        "# Solution to Question 4\n",
        "#########################\n",
        "F = 3 * x**3 - 16 * x  # define F(x) = 3x^3 - 16x as a symbolic function of x\n",
        "F.diff(x)  # enter a command using .diff() to show F is an antiderivative of f"
      ],
      "metadata": {
        "colab": {
          "base_uri": "https://localhost:8080/",
          "height": 39
        },
        "id": "Mfc0T7XC1Ruw",
        "outputId": "a337be98-460a-4f10-f69b-59c9bfebc6f6"
      },
      "execution_count": null,
      "outputs": [
        {
          "output_type": "execute_result",
          "data": {
            "text/plain": [
              "9*x**2 - 16"
            ],
            "text/latex": "$\\displaystyle 9 x^{2} - 16$"
          },
          "metadata": {},
          "execution_count": 14
        }
      ]
    },
    {
      "cell_type": "markdown",
      "source": [
        "<a name=\"q5\">\n",
        "# Question 5\n",
        "\n",
        "---\n",
        "\n",
        "The output from [Question 3](#q3) is very helpful, but it is not quite the correct result for $\\displaystyle \\int \\left( 9x^2 - 16 \\right) \\, dx$. Enter the correct answer by completing the solution in the text box below.\n"
      ],
      "metadata": {
        "id": "3T74-3xayKAZ"
      }
    },
    {
      "cell_type": "markdown",
      "source": [
        "## Solution to Question 5\n",
        "\n",
        "---\n",
        "\n",
        "Replace the ?? in the equation below to complete the solution.\n",
        "\n",
        "\n",
        "$$\\int \\left( 9x^2 - 16 \\right) \\, dx = 3x^3 - 16x + ?? $$\n",
        "\n",
        "\n",
        "<br>  \n",
        "<br>  "
      ],
      "metadata": {
        "id": "nuuGtp5czRl2"
      }
    },
    {
      "cell_type": "markdown",
      "source": [
        "<a name=\"q6\"></a>\n",
        "# Question 6\n",
        "\n",
        "---\n",
        "\n",
        "Use the SymPy function `.integrate()` to evaluate the integral\n",
        "\n",
        "$$\\int \\left( 5e^z + 3 \\sin{z} \\right) \\, dz.$$\n",
        "\n",
        "Based on the output of the code cell, type your answer in the text cell below the code cell.\n",
        "\n",
        "<br>  \n",
        "\n",
        "*Hint: Use the `sym.exp()` and `sym.sin()` functions to define and store the integrand to `g`. You can check your answer by inserting a code cell and using the `.diff()` function as done in [Question 3](#q3).*\n"
      ],
      "metadata": {
        "id": "o5BFt9eR1qk8"
      }
    },
    {
      "cell_type": "code",
      "source": [
        "#################################################################\n",
        "# Solution to Question 6\n",
        "# Replace each ?? to complete the code to evaluate the integral.\n",
        "#################################################################\n",
        "z = sym.symbols('z')  # define z as a symbolic variable\n",
        "g = ??  # define symbolic function g(z) = 5e^z + 3sin(z)\n",
        "\n",
        "??  # enter a command using .integrate() to evaluate the integral"
      ],
      "metadata": {
        "id": "kMjnMjz91qlG"
      },
      "execution_count": null,
      "outputs": []
    },
    {
      "cell_type": "code",
      "source": [
        "#################################################################\n",
        "# Solution to Question 6\n",
        "# Replace each ?? to complete the code to evaluate the integral.\n",
        "#################################################################\n",
        "z = sym.symbols('z')  # define z as a symbolic variable\n",
        "g = 5 * sym.exp(z) + 3 * sym.sin(z)  # define symbolic function g(z) = 5e^z + 3sin(z)\n",
        "\n",
        "g.integrate(z)  # enter a command using .integrate() to evaluate the integral"
      ],
      "metadata": {
        "colab": {
          "base_uri": "https://localhost:8080/",
          "height": 39
        },
        "id": "P416BSqA8pVK",
        "outputId": "7c04a120-dd80-4620-e388-01cf26cc1c75"
      },
      "execution_count": null,
      "outputs": [
        {
          "output_type": "execute_result",
          "data": {
            "text/plain": [
              "5*exp(z) - 3*cos(z)"
            ],
            "text/latex": "$\\displaystyle 5 e^{z} - 3 \\cos{\\left(z \\right)}$"
          },
          "metadata": {},
          "execution_count": 15
        }
      ]
    },
    {
      "cell_type": "markdown",
      "source": [
        "## Solution to Question 6\n",
        "\n",
        "---\n",
        "\n",
        "We have $\\displaystyle \\int \\left( 5e^z + 3 \\sin{z} \\right) \\, dz = $ <mark>[Type formula here]</mark> .\n",
        "\n",
        "\n",
        "<br>  \n",
        "<br>  "
      ],
      "metadata": {
        "id": "wcLy5Bgv3FhG"
      }
    },
    {
      "cell_type": "markdown",
      "source": [
        "<a name=\"save-before\"></a>\n",
        "# Be Sure You Have Saved Your Work!\n",
        "---\n",
        "\n",
        "This lab is a shared Colab notebook available for anyone to view. However, since everyone is sharing this notebook, you do not have permission to save changes to this shared Colab notebook. In order to save your work:\n",
        "\n",
        "1. You will need to set up a free Google Drive account. If you already have a Google Drive account, you are ready to go!\n",
        "2. Click the `Copy to Drive` button to the right of the `+ Code` and `+ Text` buttons on top of the notebook.\n",
        "3. Select from the menu `File/Save a Copy in Drive`.\n",
        "  - By default, the notebook will be saved in a folder named **Colab Notebooks** in your Drive.\n",
        "  - Feel free to rename and store the notebook wherever you like.\n"
      ],
      "metadata": {
        "id": "iBmMPoh1CkEf"
      }
    },
    {
      "cell_type": "markdown",
      "source": [
        "<a name=\"lab1summary\"></a>\n",
        "# Code Summary\n",
        "\n",
        "---"
      ],
      "metadata": {
        "id": "CFY6cE2vVig7"
      }
    },
    {
      "cell_type": "markdown",
      "source": [
        "# <mark> IGNORE THE REST</mark>\n",
        "\n",
        "----"
      ],
      "metadata": {
        "id": "ff7S9LhYBMtu"
      }
    },
    {
      "cell_type": "markdown",
      "source": [
        "<a name=\"q2e\"></a>\n",
        "## Question 2e\n",
        "\n",
        "---\n",
        "\n",
        "Complete the code cell below to evaluate the integral\n",
        "\n",
        "$$\\int \\left( 1000 t^3 - 1133 t^2 + 267 t \\right) \\, dt.$$\n",
        "\n",
        "Then type your answer in the text cell below the code cell.\n"
      ],
      "metadata": {
        "id": "5V9MlDISorNQ"
      }
    },
    {
      "cell_type": "code",
      "source": [
        "#################################################################\n",
        "# Solution to Question 2e\n",
        "# Replace the ?? with a command using the .integrate() function.\n",
        "#################################################################\n",
        "??  # evaluate integral"
      ],
      "metadata": {
        "id": "NA7t3F-uyd2a"
      },
      "execution_count": null,
      "outputs": []
    },
    {
      "cell_type": "code",
      "source": [
        "#################################################################\n",
        "# Solution to Question 2e\n",
        "# Replace the ?? with a command using the .integrate() function.\n",
        "#################################################################\n",
        "v.integrate(t)  # evaluate integral"
      ],
      "metadata": {
        "colab": {
          "base_uri": "https://localhost:8080/",
          "height": 38
        },
        "id": "Ku5K0paiylBz",
        "outputId": "f834ebf2-9c4d-46ee-97aa-a7e85c9f5733"
      },
      "execution_count": null,
      "outputs": [
        {
          "output_type": "execute_result",
          "data": {
            "text/plain": [
              "250.0*t**4 - 377.666666666667*t**3 + 133.5*t**2"
            ],
            "text/latex": "$\\displaystyle 250.0 t^{4} - 377.666666666667 t^{3} + 133.5 t^{2}$"
          },
          "metadata": {},
          "execution_count": 99
        }
      ]
    },
    {
      "cell_type": "markdown",
      "source": [
        "### Solution to Question 2e\n",
        "\n",
        "---\n",
        "\n",
        "Replace each ?? on the right side of the equation to enter your answer. If needed, round coefficients in your answer to three decimal places.\n",
        "\n",
        "\n",
        "$$\\int \\left( 1000 t^3 - 1133 t^2 + 267 t \\right) \\, dt = ?? t^4 - ?? t^3 + ?? t^2 + ??.$$\n"
      ],
      "metadata": {
        "id": "NyxRGLkkypJj"
      }
    },
    {
      "cell_type": "markdown",
      "source": [
        "<a name=\"q2f\"></a>\n",
        "## Question 2f\n",
        "\n",
        "---\n",
        "\n",
        "Give a formula for $s(t)$, your distance from the lake $t$ hours after you begin your bike ride."
      ],
      "metadata": {
        "id": "rU08YMHgpAYT"
      }
    },
    {
      "cell_type": "markdown",
      "source": [
        "### Solution to Question 2f\n",
        "\n",
        "---\n",
        "\n",
        "Replace each ?? on the right side of the equation with a value. If needed, round coefficients in your answer to three decimal places.\n",
        "\n",
        "\n",
        "$$s(t) = ?? t^4 - ?? t^3 + ?? t^2 + ??.$$"
      ],
      "metadata": {
        "id": "TFuZBhcXzNDa"
      }
    },
    {
      "cell_type": "code",
      "source": [],
      "metadata": {
        "id": "ARJn1s2FzMYK"
      },
      "execution_count": null,
      "outputs": []
    },
    {
      "cell_type": "markdown",
      "source": [
        "<a name=\"q2g\"></a>\n",
        "## Question 2g\n",
        "\n",
        "---\n",
        "\n",
        "Use your formula in [Question 2f](#q2f) to calculate the total distance of your home from the lake and your friend's home from the lake to confirm your answers in Questions [2c](#q2c) and [2d](#q2d).\n"
      ],
      "metadata": {
        "id": "Fbj-UuEYpVGM"
      }
    },
    {
      "cell_type": "code",
      "source": [
        "#########################################################\n",
        "# Solution to Question 2g\n",
        "# Replace the first ?? with an expression for s(t).\n",
        "# Replace second ?? with a value to compute the distance\n",
        "#########################################################\n",
        "s = 250.0 * t**4 - 377.667 * t**3 + 133.5 * t**2 + 3.932  # define symbolic function s(t)\n",
        "\n",
        "s.evalf(subs={t: 0.798711649147927})  # distance of friend's home to lake"
      ],
      "metadata": {
        "colab": {
          "base_uri": "https://localhost:8080/",
          "height": 37
        },
        "id": "hHOepqcJzdcU",
        "outputId": "ccb9d5e6-a148-402f-98b8-2973948bc0d2"
      },
      "execution_count": null,
      "outputs": [
        {
          "output_type": "execute_result",
          "data": {
            "text/plain": [
              "-1.59381193010304"
            ],
            "text/latex": "$\\displaystyle -1.59381193010304$"
          },
          "metadata": {},
          "execution_count": 104
        }
      ]
    },
    {
      "cell_type": "code",
      "source": [
        "t = np.array([0, 10, 20, 35, 50])\n",
        "rate = np.array([0, 30/60, 0, -24/60, 0])"
      ],
      "metadata": {
        "id": "xReZFWDre9hb"
      },
      "execution_count": null,
      "outputs": []
    },
    {
      "cell_type": "code",
      "source": [
        "np.polyfit(t, rate, 3)"
      ],
      "metadata": {
        "colab": {
          "base_uri": "https://localhost:8080/"
        },
        "id": "fbcpzeb4hoJk",
        "outputId": "7e23eb6a-e9c8-419e-ba64-bd478164e422"
      },
      "execution_count": null,
      "outputs": [
        {
          "output_type": "execute_result",
          "data": {
            "text/plain": [
              "array([ 7.19929866e-05, -5.21073446e-03,  8.01535165e-02,  3.27878434e-02])"
            ]
          },
          "metadata": {},
          "execution_count": 33
        }
      ]
    },
    {
      "cell_type": "code",
      "source": [
        "np.polyfit(t, rate, 3)"
      ],
      "metadata": {
        "colab": {
          "base_uri": "https://localhost:8080/"
        },
        "outputId": "5022a95b-a721-47f6-bfb1-2f499e871579",
        "id": "er8U0UGwe9hc"
      },
      "execution_count": null,
      "outputs": [
        {
          "output_type": "execute_result",
          "data": {
            "text/plain": [
              "array([  933.02910579, -1125.51864407,   288.55265926,     1.9672706 ])"
            ]
          },
          "metadata": {},
          "execution_count": 26
        }
      ]
    },
    {
      "cell_type": "markdown",
      "source": [
        "# Question\n",
        "\n",
        "Let $R(t) = (see below)$ denote the rate of change of the concentration of adrenaline, in picograms per milliliter per minute (pg/mL/min), $t$ minutes after a person has taken an injection of epeniphrene. Give some initial condition.\n",
        "\n",
        "When is the rate of change equal to 0?\n",
        "\n",
        "Evaluate the definite integral from t=0 to t=5 and interpret the practical meaning.\n",
        "\n",
        "Evaluate the definite integral from t=0 to t=8 and interpret the practical meaning.\n",
        "\n",
        "Give a general formula for the concentration of adrenaline in the body as a function of time $t$ and sketch the graph.\n",
        "\n",
        "Compare graphs of $c(t)$ and $C(t)$.\n",
        "\n",
        "- When the graph of $c(t)$ is negative, the graph of $C(t)$ is ??.\n",
        "- When the graph of $c(t)$ is positive, the graph of $C(t)$ is ??.\n",
        "- When the graph of $c(t)$ is zero, the graph of $C(t)$ is ??.\n"
      ],
      "metadata": {
        "id": "d-TD4RLQOPv0"
      }
    },
    {
      "cell_type": "code",
      "source": [
        "t = np.array([0, 2, 5, 7, 8])\n",
        "rate = np.array([0, -30, 0, 10, 0])"
      ],
      "metadata": {
        "id": "LMRaKeYyBz86"
      },
      "execution_count": null,
      "outputs": []
    },
    {
      "cell_type": "code",
      "source": [
        "np.polyfit(t, rate, 3)"
      ],
      "metadata": {
        "colab": {
          "base_uri": "https://localhost:8080/"
        },
        "id": "dv0HzDcbBvYu",
        "outputId": "d151a787-61fa-471e-c09c-7b67b8727eb3"
      },
      "execution_count": null,
      "outputs": [
        {
          "output_type": "execute_result",
          "data": {
            "text/plain": [
              "array([ -0.81152738,  10.57348703, -32.68760807,  -0.1037464 ])"
            ]
          },
          "metadata": {},
          "execution_count": 9
        }
      ]
    },
    {
      "cell_type": "markdown",
      "source": [
        "<a name=\"q1\"></a>\n",
        "# Question 1\n",
        "\n",
        "---\n",
        "\n",
        "Let $r(t) = 3x^2 -3$."
      ],
      "metadata": {
        "id": "Z5jCFz3I-3hB"
      }
    },
    {
      "cell_type": "markdown",
      "source": [
        "<a name=\"q1a\"></a>\n",
        "## Question 1a\n",
        "\n",
        "---\n",
        "\n",
        "Complete the code cell below to define the the function $f(x)$."
      ],
      "metadata": {
        "id": "hHw-9KvlTIKi"
      }
    },
    {
      "cell_type": "code",
      "source": [
        "###########################################\n",
        "# Solution to Question 1a\n",
        "###########################################\n",
        "def r(t):  # function name is r with one input t\n",
        "  return ?? # formula for r(t)"
      ],
      "metadata": {
        "id": "i0X9N3K0pQgW"
      },
      "execution_count": null,
      "outputs": []
    },
    {
      "cell_type": "code",
      "source": [
        "###########################################\n",
        "# Solution to Question 1a\n",
        "###########################################\n",
        "def r(t):  # function name is r with one input t\n",
        "  return 3 * t**2 - 3  # formula for r(t)"
      ],
      "metadata": {
        "id": "LnkJl-k7Fppq"
      },
      "execution_count": null,
      "outputs": []
    },
    {
      "cell_type": "markdown",
      "source": [
        "<a name=\"q1c\"></a>\n",
        "## Question 1c\n",
        "\n",
        "---\n",
        "\n",
        "Run the code cell below to sketch a graph of $R$ and answer the following questions.\n",
        "\n",
        "- Write a definite integral that represents the shaded area in the plot."
      ],
      "metadata": {
        "id": "EC3estnQUq5E"
      }
    },
    {
      "cell_type": "code",
      "source": [
        "############################\n",
        "# Plot R(t)\n",
        "############################\n",
        "t = np.linspace(0, 3.5, 1000)  # pick 1000 evenly spaced t-values from x=0 to x=4\n",
        "plt.plot(t,  # plot a point at each t-value in array t\n",
        "         r(t))  # plot each point (x, f(x))\n",
        "\n",
        "\n",
        "#############################\n",
        "# shade area from t=0 to t=2\n",
        "#############################\n",
        "shade_int = np.linspace(1, 3, 1000)  # shaded interval from t=0 to t=2\n",
        "plt.fill_between(shade_int, r(shade_int), color='gray')\n",
        "\n",
        "###################\n",
        "# Add axes to plot\n",
        "###################\n",
        "plt.axhline(y=0, color='black') # horizontal axis at y=0\n",
        "#plt.axvline(x=0, color='black')  # vertical axis at x=0\n",
        "\n",
        "###############\n",
        "# Plot options\n",
        "###############\n",
        "#plt.title('Rate of Flow')  # main plot label\n",
        "plt.xlabel('t')  # label on x-axis\n",
        "plt.ylabel('r(t)')  # label for the y-axis\n",
        "#plt.xticks(np.arange(0, 3, step=0.5))  # Set tick marks\n",
        "plt.xlim(0,3.5)  # set limits on x-axis\n",
        "#plt.ylim(0, 400)  # set limits on y-axis\n",
        "plt.grid(True)  # add grid\n",
        "plt.show()  # display plot"
      ],
      "metadata": {
        "colab": {
          "base_uri": "https://localhost:8080/",
          "height": 450
        },
        "outputId": "ed507eb8-7340-44d6-857a-dc0592156af4",
        "id": "QZc6kUz1C35F"
      },
      "execution_count": null,
      "outputs": [
        {
          "output_type": "display_data",
          "data": {
            "text/plain": [
              "<Figure size 640x480 with 1 Axes>"
            ],
            "image/png": "[encoded data removed]"
          },
          "metadata": {}
        }
      ]
    },
    {
      "cell_type": "markdown",
      "source": [
        "### Solution to Question 1c\n",
        "\n",
        "---\n",
        "\n",
        "Replace each ?? in the formula below to write a definite integral that represents the shaded area.\n",
        "\n",
        "$$\\int_{ ?? }^{ ?? } \\left( 3t^2 - 3 \\right) \\, dt$$\n",
        "\n",
        "\n",
        "<br>  \n",
        "<br>  "
      ],
      "metadata": {
        "id": "oq4NnmGOqEYt"
      }
    },
    {
      "cell_type": "markdown",
      "source": [
        "<a name=\"q2\"></a>\n",
        "# Question 2\n",
        "\n",
        "---\n",
        "\n",
        "Run the code cell below to sketch a graph of a Riemann sum approximation for the definite integral in [Question 1b](#q1b).\n"
      ],
      "metadata": {
        "id": "HlbcDGGzTgNp"
      }
    },
    {
      "cell_type": "code",
      "source": [
        "############################\n",
        "# Plot r(t)\n",
        "############################\n",
        "t = np.linspace(0, 3.5, 1000)  # pick 1000 evenly spaced t-values from t=0 to t=2\n",
        "plt.plot(t,  # plot a point at each t-value in array t\n",
        "         r(t))  # plot each point (x, f(x))\n",
        "\n",
        "\n",
        "#####################################\n",
        "# Add rectangles to approximate area\n",
        "#####################################\n",
        "base = 0.5\n",
        "endpts = np.linspace(1, 3, 5)\n",
        "\n",
        "plt.bar(endpts[:-1],\n",
        "        r(endpts[1:]),\n",
        "        width=base,\n",
        "        alpha=0.5,\n",
        "        facecolor='gray',\n",
        "        align='edge',\n",
        "        edgecolor = 'black',\n",
        "        linewidth=1.5)\n",
        "\n",
        "###############\n",
        "# Plot options\n",
        "###############\n",
        "#plt.title('Rate of Flow')  # main plot label\n",
        "plt.xlabel('t')  # label on x-axis\n",
        "plt.ylabel('r(t)')  # label for the y-axis\n",
        "#plt.xticks(np.arange(0, 3, step=0.5))  # Set tick marks\n",
        "plt.xlim(0,3.5)  # set limits on x-axis\n",
        "#plt.ylim(0, 400)  # set limits on y-axis\n",
        "plt.grid(True)  # add grid\n",
        "plt.show()  # display plot"
      ],
      "metadata": {
        "colab": {
          "base_uri": "https://localhost:8080/",
          "height": 450
        },
        "id": "lFrc8XbLF8Ty",
        "outputId": "aba42d9c-f4aa-406f-98c2-056ac8db6925"
      },
      "execution_count": null,
      "outputs": [
        {
          "output_type": "display_data",
          "data": {
            "text/plain": [
              "<Figure size 640x480 with 1 Axes>"
            ],
            "image/png": "[encoded data removed]"
          },
          "metadata": {}
        }
      ]
    },
    {
      "cell_type": "markdown",
      "source": [
        "<a name=\"q2a\"></a>\n",
        "## Question 2a\n",
        "\n",
        "---\n",
        "\n",
        "Do the rectangles represent a left or right sum approximation for the definite integral you identified in [Question 1b](#q1b)?\n"
      ],
      "metadata": {
        "id": "QyHWsJooVE36"
      }
    },
    {
      "cell_type": "markdown",
      "source": [
        "### Solution to Question 2a\n",
        "\n",
        "---\n",
        "\n",
        "\n",
        "The rectangles represent a <mark>??</mark> sum.\n",
        "\n",
        "\n",
        "\n",
        "<br>  \n",
        "<br>  "
      ],
      "metadata": {
        "id": "2_E5tVNir9eI"
      }
    },
    {
      "cell_type": "markdown",
      "source": [
        "<a name=\"q2b\"></a>\n",
        "## Question 2b\n",
        "\n",
        "---\n",
        "\n",
        "What are the values of $n$ and $dt$?\n",
        "\n",
        "\n"
      ],
      "metadata": {
        "id": "tG_yWPutlxsI"
      }
    },
    {
      "cell_type": "markdown",
      "source": [
        "### Solution to Question 2b\n",
        "\n",
        "---\n",
        "\n",
        "- $n =$ <mark>??</mark>\n",
        "\n",
        "- $dt =$ <mark>??</mark>\n"
      ],
      "metadata": {
        "id": "es80OQaPsa-_"
      }
    },
    {
      "cell_type": "markdown",
      "source": [
        "<a name=\"q2c\"></a>\n",
        "## Question 2c\n",
        "\n",
        "---\n",
        "\n",
        "Do the rectangles lead to an upper or a lower estimate?\n",
        "\n"
      ],
      "metadata": {
        "id": "6GKB6lHhsujG"
      }
    },
    {
      "cell_type": "markdown",
      "source": [
        "### Solution to Question 2c\n",
        "\n",
        "---\n",
        "\n",
        "The rectangles lead to <mark>??</mark> estimate.\n",
        "\n",
        "\n",
        "<br>  \n",
        "<br>  "
      ],
      "metadata": {
        "id": "Du-X65cAs3RZ"
      }
    },
    {
      "cell_type": "markdown",
      "source": [
        "<a name=\"q2d\"></a>\n",
        "## Question 2d\n",
        "\n",
        "---\n",
        "\n",
        "Complete the code cell below to calculate the area of the shaded rectangles.\n",
        "\n",
        "<br>  \n",
        "\n",
        "*Caution: Be sure you have already defined the function `R(t)` [Question 1a](#q1a) before completing the code cell below.*"
      ],
      "metadata": {
        "id": "wUEJsT21mDl_"
      }
    },
    {
      "cell_type": "code",
      "source": [
        "#################\n",
        "# Solution to 2d\n",
        "#################\n",
        "dt = ??  # value of dt (from question 2b)\n",
        "\n",
        "# formula to calculate sum of the areas of the rectangles\n",
        "area = r(??) * dt + r(??) * dt + r(??) * dt + r(??) * dt  # replace each ?? with a value for t\n",
        "area  # print area to screen"
      ],
      "metadata": {
        "id": "OIBwdZOoXxDS"
      },
      "execution_count": null,
      "outputs": []
    },
    {
      "cell_type": "code",
      "source": [
        "#################\n",
        "# Solution to 2d\n",
        "#################\n",
        "dt = 0.5  # value of dt (from question 2b)\n",
        "\n",
        "# formula to calculate sum of the areas of the rectangles\n",
        "area = r(1.5) * dt + r(2) * dt + r(2.5) * dt + r(3) * dt  # replace each ?? with a value for t\n",
        "area  # print area to screen"
      ],
      "metadata": {
        "colab": {
          "base_uri": "https://localhost:8080/"
        },
        "id": "ERcxi9GZtjz6",
        "outputId": "545a919a-136c-43a2-b87f-794c5a94f9b1"
      },
      "execution_count": null,
      "outputs": [
        {
          "output_type": "execute_result",
          "data": {
            "text/plain": [
              "26.25"
            ]
          },
          "metadata": {},
          "execution_count": 70
        }
      ]
    },
    {
      "cell_type": "markdown",
      "source": [
        "<a name=\"plot-help\"></a>\n",
        "# A Riemann Sum Plotter\n",
        "\n",
        "---\n",
        "\n",
        "The `riemann_plot(f, a, b, n, method, xmin, xmax)` function plots and calculates left or right sum approximations for a definite integral\n",
        "\n",
        "$$\\int_a^b f(x) \\, dx.$$\n",
        "\n",
        "- The first input `f` defines the function inside the definite integral (or **integrand**).\n",
        "  - First define a Python function `f(x)` as done with `R(t)` in [Question 1a](#q1a).\n",
        "  - When entering the we simply enter `f` and not `f(x)`.\n",
        "- The inputs `a`, `b`, and `n` are values for the lower and upper limits the definite integral.\n",
        "- The input `n` is an integer that defines the number of subintervals to divide the interval $a \\leq x \\leq b$.\n",
        "- The `method` parameter can be set to either `'left'` or `'right'` to calculate either a left or right sum.\n",
        "  - The method is typed in lowercase inside quotes.\n",
        "- `xmin` and `xmax` are two optional parameters that can be used to set the $x$-axis window for the plot.\n",
        "  - If a value for `xmin` is not entered, then `xmin = a` is used by default.\n",
        "  - If a value for `xmax` is not entered, then `xmax = b` is used by default.\n",
        "\n",
        "<br>\n",
        "\n",
        "\n"
      ],
      "metadata": {
        "id": "V18OLYZu2p-m"
      }
    },
    {
      "cell_type": "markdown",
      "source": [
        "<a name=\"q4\"></a>\n",
        "# Question 4\n",
        "\n",
        "---\n",
        "\n",
        "Running the code cell below will result in an error message. Correct the errors so the code cell runs without crashing and confirm your answers to [Question 2](#q2).\n",
        "\n",
        "<br>  \n",
        "\n",
        "*Hint: Be sure you have already defined the function `R(t)` in [Question 1a](#q1a) and [loaded the `riemann_plot()` function](#load-plotter) at the start of this lab. See the [documentation above](#plot-help) for help with the inputs in `riemann_plot()`.*\n"
      ],
      "metadata": {
        "id": "8cEn3mtAzCmx"
      }
    },
    {
      "cell_type": "code",
      "source": [
        "####################################\n",
        "# Correct errors in code and run\n",
        "# to confirm answers to question 2.\n",
        "# Then summarize the errors and\n",
        "# corresponding corrections to code.\n",
        "#####################################\n",
        "riemann_plot(f = r(t),  # the integrand\n",
        "             a = 1,  # lower limit\n",
        "             b = 3,  # upper limit\n",
        "             n = 4,  # number of subdivisions\n",
        "             method = right,  # left or right sum\n",
        "             xmin = 0,  # start of x-window for plot\n",
        "             xmax = 3.5)  # end of x-window for plot"
      ],
      "metadata": {
        "id": "1WFFch8q2stm"
      },
      "execution_count": null,
      "outputs": []
    },
    {
      "cell_type": "code",
      "source": [
        "##########################\n",
        "# Solution to Question 5b\n",
        "##########################\n",
        "riemann_plot(f = r,  # the integrand\n",
        "             a = 1,  # lower limit\n",
        "             b = 3,  # upper limit\n",
        "             n = 4,  # number of subdivisions\n",
        "             method = 'right',  # left or right sum\n",
        "             xmin = 0,  # start of x-window for plot\n",
        "             xmax = 3.5)  # end of x-window for plot"
      ],
      "metadata": {
        "colab": {
          "base_uri": "https://localhost:8080/",
          "height": 472
        },
        "outputId": "ba00464a-5f24-41d6-dee2-41f631bf51dd",
        "id": "nlDVh8Vj203R"
      },
      "execution_count": null,
      "outputs": [
        {
          "output_type": "display_data",
          "data": {
            "text/plain": [
              "<Figure size 640x480 with 1 Axes>"
            ],
            "image/png": "[encoded data removed]"
          },
          "metadata": {}
        }
      ]
    },
    {
      "cell_type": "markdown",
      "source": [
        "## Solution to Question 4\n",
        "\n",
        "---\n",
        "\n",
        "Summarize the correction(s) you made to make the code cell above work.\n",
        "\n",
        "- <mark>Correction 1</mark>\n",
        "- <mark>Correction 2</mark>\n",
        "\n",
        "<br>  \n",
        "<br>  "
      ],
      "metadata": {
        "id": "DM6lOxZTz85b"
      }
    },
    {
      "cell_type": "markdown",
      "source": [
        "<a name=\"q5\"></a>\n",
        "# Question 5\n",
        "\n",
        "---\n",
        "\n",
        "Use the `riemann_plot()` function in the code cell below to confirm your answers to [Question 3](#q3).\n",
        "\n",
        "\n",
        "<br>\n",
        "\n",
        "<br>  \n",
        "\n",
        "*Hint: Be sure you have already defined the function `R(t)` in [Question 1a](#q1a) and [loaded the `riemann_plot()` function](#load-plotter) at the start of this lab. See the [documentation above](#plot-help) for help with the inputs in `riemann_plot()`.*\n",
        "\n"
      ],
      "metadata": {
        "id": "Vb9rgp214ehL"
      }
    },
    {
      "cell_type": "code",
      "source": [
        "#########################\n",
        "# Solution to Question 5\n",
        "#########################\n",
        "riemann_plot(f = ??,  # the integrand\n",
        "             a = ??,  # lower limit\n",
        "             b = ??,  # upper limit\n",
        "             n = ??,  # number of subdivisions\n",
        "             method = '??',  # left or right sum\n",
        "             xmin = 0,  # start of x-window for plot\n",
        "             xmax = 3)  # end of x-window for plot"
      ],
      "metadata": {
        "id": "FTnnmQDK75KK"
      },
      "execution_count": null,
      "outputs": []
    },
    {
      "cell_type": "code",
      "source": [
        "#########################\n",
        "# Solution to Question 5\n",
        "#########################\n",
        "riemann_plot(f = r,  # the integrand\n",
        "             a = 1,  # lower limit\n",
        "             b = 3,  # upper limit\n",
        "             n = 40,  # number of subdivisions\n",
        "             method = 'right',  # left or right sum\n",
        "             xmin = 0,  # start of x-window for plot\n",
        "             xmax = 3.5)  # end of x-window for plot"
      ],
      "metadata": {
        "colab": {
          "base_uri": "https://localhost:8080/",
          "height": 472
        },
        "outputId": "0607ff97-d45e-439c-f078-9f570e439d57",
        "id": "NxywqIe27bdS"
      },
      "execution_count": null,
      "outputs": [
        {
          "output_type": "display_data",
          "data": {
            "text/plain": [
              "<Figure size 640x480 with 1 Axes>"
            ],
            "image/png": "[encoded data removed]"
          },
          "metadata": {}
        }
      ]
    },
    {
      "cell_type": "markdown",
      "source": [
        "# Question 6\n",
        "\n",
        "---\n",
        "\n",
        "Evaluate the integral\n",
        "\n",
        "$$\\int_1^3 \\left( 3x^2 - 3 \\right) \\, dx.$$"
      ],
      "metadata": {
        "id": "P7g1eKjg_4mf"
      }
    },
    {
      "cell_type": "markdown",
      "source": [
        "### Question a\n",
        "\n",
        "---\n",
        "\n",
        "$$\\int_1^3 \\left( 3x^2 - 3 \\right) \\, dx = ( ?? x^3 - ?? x ) \\bigg|_1^3 = (??) - (??) = ??.$$"
      ],
      "metadata": {
        "id": "H2C166BYIyL6"
      }
    },
    {
      "cell_type": "markdown",
      "source": [
        "# Question 7\n",
        "\n",
        "---\n",
        "\n",
        "\n",
        "Find antiderivative (with SymPy).\n",
        "\n",
        "\n",
        "Calculate total change in antiderivative (with SymPy)."
      ],
      "metadata": {
        "id": "C9aCbaG4AKqR"
      }
    },
    {
      "cell_type": "code",
      "source": [
        "x = sym.symbols('x')\n",
        "\n",
        "f = 3 * x**2 - 3\n",
        "f"
      ],
      "metadata": {
        "colab": {
          "base_uri": "https://localhost:8080/",
          "height": 38
        },
        "id": "2kde4lgtJ80K",
        "outputId": "1f04056b-4789-4174-a79a-e1ad29202930"
      },
      "execution_count": null,
      "outputs": [
        {
          "output_type": "execute_result",
          "data": {
            "text/plain": [
              "3*x**2 - 3"
            ],
            "text/latex": "$\\displaystyle 3 x^{2} - 3$"
          },
          "metadata": {},
          "execution_count": 62
        }
      ]
    },
    {
      "cell_type": "code",
      "source": [
        "F = f.integrate(x)\n",
        "F"
      ],
      "metadata": {
        "colab": {
          "base_uri": "https://localhost:8080/",
          "height": 38
        },
        "id": "XyB5rsQfKF8p",
        "outputId": "4c66c193-1d99-44f2-c787-5292ba102111"
      },
      "execution_count": null,
      "outputs": [
        {
          "output_type": "execute_result",
          "data": {
            "text/plain": [
              "x**3 - 3*x"
            ],
            "text/latex": "$\\displaystyle x^{3} - 3 x$"
          },
          "metadata": {},
          "execution_count": 52
        }
      ]
    },
    {
      "cell_type": "code",
      "source": [
        "F.diff(x)"
      ],
      "metadata": {
        "colab": {
          "base_uri": "https://localhost:8080/",
          "height": 38
        },
        "id": "XKNuZVC6KcKv",
        "outputId": "3e71ef36-ec6b-495d-f3d2-77a5da867790"
      },
      "execution_count": null,
      "outputs": [
        {
          "output_type": "execute_result",
          "data": {
            "text/plain": [
              "3*x**2 - 3"
            ],
            "text/latex": "$\\displaystyle 3 x^{2} - 3$"
          },
          "metadata": {},
          "execution_count": 54
        }
      ]
    },
    {
      "cell_type": "code",
      "source": [
        "F.evalf(subs={x: 3}) - F.evalf(subs={x: 1})"
      ],
      "metadata": {
        "colab": {
          "base_uri": "https://localhost:8080/",
          "height": 37
        },
        "id": "HlGbi4GHKUEv",
        "outputId": "8c275a88-c835-4642-a14a-51aa1a2b290f"
      },
      "execution_count": null,
      "outputs": [
        {
          "output_type": "execute_result",
          "data": {
            "text/plain": [
              "20.0000000000000"
            ],
            "text/latex": "$\\displaystyle 20.0$"
          },
          "metadata": {},
          "execution_count": 53
        }
      ]
    },
    {
      "cell_type": "markdown",
      "source": [
        "# Question 8\n",
        "\n",
        "---\n",
        "\n",
        "\n",
        "Evaluate definite integral (with SymPy).\n",
        "\n"
      ],
      "metadata": {
        "id": "dBZv7oiMAVOB"
      }
    },
    {
      "cell_type": "code",
      "source": [
        "area = sym.integrate(f, (x, 1, 3))\n",
        "area"
      ],
      "metadata": {
        "colab": {
          "base_uri": "https://localhost:8080/",
          "height": 37
        },
        "id": "5G40DGDQKf27",
        "outputId": "cac6ac84-b884-4a7d-c0e1-8f8f95d9b273"
      },
      "execution_count": null,
      "outputs": [
        {
          "output_type": "execute_result",
          "data": {
            "text/plain": [
              "20"
            ],
            "text/latex": "$\\displaystyle 20$"
          },
          "metadata": {},
          "execution_count": 55
        }
      ]
    },
    {
      "cell_type": "markdown",
      "source": [
        "# Question\n",
        "\n",
        "---\n",
        "\n",
        "Evaluate the indefinite integral $\\displaystyle \\int \\left( \\cos(x) - 5e^x + \\frac{1}{\\sqrt{x}} \\right) \\, dx$"
      ],
      "metadata": {
        "id": "2xaNq2SVKyvk"
      }
    },
    {
      "cell_type": "code",
      "source": [
        "#x = sym.symbols('x')\n",
        "\n",
        "g = sym.cos(x) - 5 * sym.exp(x) + 1/sym.sqrt(x)\n",
        "g"
      ],
      "metadata": {
        "colab": {
          "base_uri": "https://localhost:8080/",
          "height": 55
        },
        "outputId": "381f08fe-a2b5-4653-a083-9ac130f454f5",
        "id": "-0cA63n2MdZP"
      },
      "execution_count": null,
      "outputs": [
        {
          "output_type": "execute_result",
          "data": {
            "text/plain": [
              "-5*exp(x) + cos(x) + 1/sqrt(x)"
            ],
            "text/latex": "$\\displaystyle - 5 e^{x} + \\cos{\\left(x \\right)} + \\frac{1}{\\sqrt{x}}$"
          },
          "metadata": {},
          "execution_count": 64
        }
      ]
    },
    {
      "cell_type": "code",
      "source": [
        "G = g.integrate(x)\n",
        "G"
      ],
      "metadata": {
        "colab": {
          "base_uri": "https://localhost:8080/",
          "height": 38
        },
        "outputId": "6cc15459-192a-49f8-bc85-83c65ea9533b",
        "id": "M3ocxcFoMdZc"
      },
      "execution_count": null,
      "outputs": [
        {
          "output_type": "execute_result",
          "data": {
            "text/plain": [
              "2*sqrt(x) - 5*exp(x) + sin(x)"
            ],
            "text/latex": "$\\displaystyle 2 \\sqrt{x} - 5 e^{x} + \\sin{\\left(x \\right)}$"
          },
          "metadata": {},
          "execution_count": 65
        }
      ]
    },
    {
      "cell_type": "code",
      "source": [
        "############################\n",
        "# Plot R(t)\n",
        "############################\n",
        "t = np.linspace(0, 3.5, 1000)  # pick 1000 evenly spaced t-values from x=0 to x=4\n",
        "plt.plot(t,  # plot a point at each t-value in array t\n",
        "         3 * t**2 - 3)  # plot each point (x, f(x))\n",
        "\n",
        "\n",
        "#############################\n",
        "# shade area from t=0 to t=2\n",
        "#############################\n",
        "shade_int = np.linspace(0, 3, 1000)  # shaded interval from t=0 to t=2\n",
        "plt.fill_between(shade_int, 3 * shade_int**2 - 3, color='gray')\n",
        "\n",
        "###################\n",
        "# Add axes to plot\n",
        "###################\n",
        "plt.axhline(y=0, color='black') # horizontal axis at y=0\n",
        "#plt.axvline(x=0, color='black')  # vertical axis at x=0\n",
        "\n",
        "###############\n",
        "# Plot options\n",
        "###############\n",
        "#plt.title('Rate of Flow')  # main plot label\n",
        "plt.xlabel('x')  # label on x-axis\n",
        "plt.ylabel('f(x)')  # label for the y-axis\n",
        "#plt.xticks(np.arange(0, 3, step=0.5))  # Set tick marks\n",
        "plt.xlim(0,3.5)  # set limits on x-axis\n",
        "#plt.ylim(0, 400)  # set limits on y-axis\n",
        "plt.grid(True)  # add grid\n",
        "plt.show()  # display plot"
      ],
      "metadata": {
        "colab": {
          "base_uri": "https://localhost:8080/",
          "height": 450
        },
        "outputId": "db29f742-4b86-4dfe-f6f0-31de498dd3ef",
        "id": "ErAHS2cXLBuY"
      },
      "execution_count": null,
      "outputs": [
        {
          "output_type": "display_data",
          "data": {
            "text/plain": [
              "<Figure size 640x480 with 1 Axes>"
            ],
            "image/png": "[encoded data removed]"
          },
          "metadata": {}
        }
      ]
    },
    {
      "cell_type": "code",
      "source": [
        "area = f.integrate((x, 1, 3)) - f.integrate((x, 0, 1))\n",
        "area"
      ],
      "metadata": {
        "colab": {
          "base_uri": "https://localhost:8080/",
          "height": 37
        },
        "id": "ltG1Dc_wK5Ye",
        "outputId": "534ca213-90cd-41de-9214-962258bd355e"
      },
      "execution_count": null,
      "outputs": [
        {
          "output_type": "execute_result",
          "data": {
            "text/plain": [
              "22"
            ],
            "text/latex": "$\\displaystyle 22$"
          },
          "metadata": {},
          "execution_count": 63
        }
      ]
    },
    {
      "cell_type": "markdown",
      "source": [
        "<a name=\"q9\"></a>\n",
        "# Question 9\n",
        "\n",
        "---\n",
        "\n",
        "Consider the function $\\displaystyle f(x) = e^{-0.3x}$ and answer the questions.\n",
        "\n",
        "\n",
        "\n",
        "\n"
      ],
      "metadata": {
        "id": "gwOvTtYjnNaa"
      }
    },
    {
      "cell_type": "markdown",
      "source": [
        "<a name=\"q9a\"></a>\n",
        "## Question 9a\n",
        "\n",
        "---\n",
        "\n",
        "Complete the code cell below to define a Python function `f(x)` for $\\displaystyle f(x) = e^{-0.3x}$.\n",
        "\n"
      ],
      "metadata": {
        "id": "NiQJC5G8_SXX"
      }
    },
    {
      "cell_type": "code",
      "source": [
        "###########################################\n",
        "# Solution to Question 9a\n",
        "###########################################\n",
        "def f(x):  # function name is f with one input x\n",
        "  return ??  # formula for f(x)"
      ],
      "metadata": {
        "id": "So2uVqrf_SXk"
      },
      "execution_count": null,
      "outputs": []
    },
    {
      "cell_type": "code",
      "source": [
        "###########################################\n",
        "# Solution to Question 9a\n",
        "###########################################\n",
        "def f(x):  # function name is f with one input x\n",
        "  return np.exp(-0.3 * x)  # formula for f(x)"
      ],
      "metadata": {
        "id": "woDHUpuF_SXk"
      },
      "execution_count": null,
      "outputs": []
    },
    {
      "cell_type": "markdown",
      "source": [
        "<a name=\"q9b\"></a>\n",
        "## Question 9b\n",
        "\n",
        "---\n",
        "\n",
        "Use the `riemann_plot()` function to approximate\n",
        "\n",
        "\n",
        "$$\\int_{2}^{5} e^{-0.3 x} \\, dx.$$\n",
        "\n",
        "using a left sum with $n=10$. Then state whether the sum is an over or underestimate for the value of the definite integral."
      ],
      "metadata": {
        "id": "LduJ2lsg_EUZ"
      }
    },
    {
      "cell_type": "code",
      "source": [
        "##########################\n",
        "# Solution to Question 9b\n",
        "##########################\n",
        "riemann_plot(f = ??,  # the integrand\n",
        "             a = ??,  # lower limit\n",
        "             b = ??,  # upper limit\n",
        "             n = ??,  # number of subdivisions\n",
        "             method = '??',  # left or right sum\n",
        "             xmin = 0,  # start x-window for plot at x=0\n",
        "             xmax = 7)  # end x-window for plot at x=7"
      ],
      "metadata": {
        "id": "CcOPI2qC2zkm"
      },
      "execution_count": null,
      "outputs": []
    },
    {
      "cell_type": "code",
      "source": [
        "##########################\n",
        "# Solution to Question 9b\n",
        "##########################\n",
        "riemann_plot(f = f,  # the integrand\n",
        "             a = 2,  # lower limit\n",
        "             b = 5,  # upper limit\n",
        "             n = 10,  # number of subdivisions\n",
        "             method = 'left',  # left or right sum\n",
        "             xmin = 0,  # start x-window for plot at x=0\n",
        "             xmax = 7)  # end x-window for plot at x=7"
      ],
      "metadata": {
        "colab": {
          "base_uri": "https://localhost:8080/",
          "height": 472
        },
        "outputId": "7a8b187d-2bd0-4940-e352-18bf837e146e",
        "id": "Irqc6muW8EXl"
      },
      "execution_count": null,
      "outputs": [
        {
          "output_type": "display_data",
          "data": {
            "text/plain": [
              "<Figure size 640x480 with 1 Axes>"
            ],
            "image/png": "[encoded data removed]"
          },
          "metadata": {}
        }
      ]
    },
    {
      "cell_type": "markdown",
      "source": [
        "### Solution to Question 9b\n",
        "\n",
        "---\n",
        "\n",
        "Is the approximation an overestimate or an underestimate?\n",
        "\n",
        "The approximation for $\\displaystyle \\int_{2}^{5} e^{-0.3 x} \\, dx$ is <mark>??</mark>.\n",
        "\n",
        "\n",
        "\n",
        "<br>  \n",
        "<br>  \n",
        "\n"
      ],
      "metadata": {
        "id": "uOJ1WJH83-Hk"
      }
    },
    {
      "cell_type": "markdown",
      "source": [
        "<a name=\"q9c\"></a>\n",
        "## Question 9c\n",
        "\n",
        "---\n",
        "\n",
        "Use the `riemann_plot()` function to approximate\n",
        "\n",
        "\n",
        "$$\\int_{1}^{6} e^{-0.3 x} \\, dx.$$\n",
        "\n",
        "using a right sum with $n=25$. Then state whether the sum is an over or underestimate for the value of the definite integral."
      ],
      "metadata": {
        "id": "AUbv_aNLCHPp"
      }
    },
    {
      "cell_type": "code",
      "source": [
        "##########################\n",
        "# Solution to Question 6c\n",
        "##########################\n",
        "riemann_plot(f = ??,  # the integrand\n",
        "             a = ??,  # lower limit\n",
        "             b = ??,  # upper limit\n",
        "             n = ??,  # number of subdivisions\n",
        "             method = '??',  # left or right sum\n",
        "             xmin = 0,  # start x-window for plot at x=0\n",
        "             xmax = 7)  # end x-window for plot at x=7"
      ],
      "metadata": {
        "id": "0vTx873KCHPz"
      },
      "execution_count": null,
      "outputs": []
    },
    {
      "cell_type": "code",
      "source": [
        "##########################\n",
        "# Solution to Question 6c\n",
        "##########################\n",
        "riemann_plot(f = f,  # the integrand\n",
        "             a = 1,  # lower limit\n",
        "             b = 6,  # upper limit\n",
        "             n = 20,  # number of subdivisions\n",
        "             method = 'right',  # left or right sum\n",
        "             xmin = 0,  # start x-window for plot at x=0\n",
        "             xmax = 7)  # end x-window for plot at x=7"
      ],
      "metadata": {
        "colab": {
          "base_uri": "https://localhost:8080/",
          "height": 472
        },
        "id": "LIoCnNam32xe",
        "outputId": "547220a3-3751-44eb-9a86-d7bd3dbac1be"
      },
      "execution_count": null,
      "outputs": [
        {
          "output_type": "display_data",
          "data": {
            "text/plain": [
              "<Figure size 640x480 with 1 Axes>"
            ],
            "image/png": "[encoded data removed]"
          },
          "metadata": {}
        }
      ]
    },
    {
      "cell_type": "markdown",
      "source": [
        "### Solution to Question 9c\n",
        "\n",
        "---\n",
        "\n",
        "Is the approximation an overestimate or an underestimate?\n",
        "\n",
        "The approximation for $\\displaystyle \\int_{1}^{6} e^{-0.3 x} \\, dx$ is <mark>??</mark>.\n",
        "\n",
        "\n",
        "\n",
        "<br>  \n",
        "<br>  \n",
        "\n"
      ],
      "metadata": {
        "id": "XE9lB-_e4YO7"
      }
    },
    {
      "cell_type": "markdown",
      "source": [
        "## Question 9d\n",
        "\n",
        "---\n",
        "\n",
        "Evaluate the indefinite integral."
      ],
      "metadata": {
        "id": "XtZHTCTOAuX-"
      }
    },
    {
      "cell_type": "markdown",
      "source": [
        "## Question 9e\n",
        "\n",
        "---\n",
        "\n",
        "Check previous result by taking the derivative."
      ],
      "metadata": {
        "id": "fz-FhknIBGxo"
      }
    },
    {
      "cell_type": "markdown",
      "source": [
        "## Question 9f\n",
        "\n",
        "---\n",
        "\n",
        "Calculate the total change in the value of the antiderivative."
      ],
      "metadata": {
        "id": "XDIYqzARA3Et"
      }
    }
  ]
}